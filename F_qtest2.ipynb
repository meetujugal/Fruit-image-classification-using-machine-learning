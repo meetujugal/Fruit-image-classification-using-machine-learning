{
 "cells": [
  {
   "cell_type": "code",
   "execution_count": 14,
   "metadata": {},
   "outputs": [
    {
     "name": "stdout",
     "output_type": "stream",
     "text": [
      "Undeseased_Fruit\n"
     ]
    }
   ],
   "source": [
    "import cv2\n",
    "import tensorflow as tf\n",
    "\n",
    "CATEGORIES = [\"Deseased_Fruit\",\"Undeseased_Fruit\"]\n",
    "\n",
    "def prepare(filepath):\n",
    "    IMG_SIZE=150\n",
    "    img_array1=cv2.imread(filepath,cv2.IMREAD_GRAYSCALE)\n",
    "    #print(img_array)\n",
    "    new_array1=cv2.resize(img_array1,(IMG_SIZE,IMG_SIZE))\n",
    "    return new_array1.reshape(-1,IMG_SIZE,IMG_SIZE,1)\n",
    "\n",
    "model=tf.keras.models.load_model(\"64x3-CNN(80_20).model\")\n",
    "\n",
    "prediction=model.predict([prepare(r\"C:\\Users\\NIC TRNS\\Desktop\\data\\Test1\\1.jpg\")])\n",
    "print(CATEGORIES[int(prediction[0][0])])\n",
    "\n"
   ]
  },
  {
   "cell_type": "code",
   "execution_count": null,
   "metadata": {},
   "outputs": [],
   "source": []
  }
 ],
 "metadata": {
  "kernelspec": {
   "display_name": "Python 3",
   "language": "python",
   "name": "python3"
  },
  "language_info": {
   "codemirror_mode": {
    "name": "ipython",
    "version": 3
   },
   "file_extension": ".py",
   "mimetype": "text/x-python",
   "name": "python",
   "nbconvert_exporter": "python",
   "pygments_lexer": "ipython3",
   "version": "3.7.4"
  }
 },
 "nbformat": 4,
 "nbformat_minor": 2
}

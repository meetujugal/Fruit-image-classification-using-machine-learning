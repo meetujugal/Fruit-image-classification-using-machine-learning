{
 "cells": [
  {
   "cell_type": "code",
   "execution_count": 1,
   "metadata": {},
   "outputs": [
    {
     "name": "stdout",
     "output_type": "stream",
     "text": [
      "WARNING:tensorflow:From C:\\Users\\NIC TRNS\\Anaconda3\\lib\\site-packages\\tensorflow_core\\python\\ops\\resource_variable_ops.py:1630: calling BaseResourceVariable.__init__ (from tensorflow.python.ops.resource_variable_ops) with constraint is deprecated and will be removed in a future version.\n",
      "Instructions for updating:\n",
      "If using Keras pass *_constraint arguments to layers.\n",
      "WARNING:tensorflow:From C:\\Users\\NIC TRNS\\Anaconda3\\lib\\site-packages\\tensorflow_core\\python\\ops\\nn_impl.py:183: where (from tensorflow.python.ops.array_ops) is deprecated and will be removed in a future version.\n",
      "Instructions for updating:\n",
      "Use tf.where in 2.0, which has the same broadcast rule as np.where\n",
      "acc: 79.16%\n",
      "acc: 79.16%\n",
      "acc: 78.96%\n",
      "acc: 78.96%\n",
      "acc: 79.16%\n",
      "acc: 78.96%\n",
      "acc: 79.16%\n",
      "acc: 79.16%\n",
      "acc: 78.96%\n",
      "acc: 79.16%\n",
      "79.08% (+/- 0.10%)\n"
     ]
    }
   ],
   "source": [
    "\n",
    "import tensorflow as tf\n",
    "from tensorflow.keras.models import Sequential\n",
    "from tensorflow.keras.layers import Dense, Dropout, Activation, Flatten, Conv2D, MaxPooling2D\n",
    "import pickle\n",
    "import pandas as pd\n",
    "from sklearn.model_selection import train_test_split, StratifiedKFold\n",
    "import numpy as np\n",
    "\n",
    "a = pickle.load(open(\"a.pickle\",\"rb\"))\n",
    "b = pickle.load(open(\"b.pickle\",\"rb\"))\n",
    "\n",
    "a=a/255\n",
    "\n",
    "a_train=a[0:8]\n",
    "b_train=b[0:8]\n",
    "kfold = StratifiedKFold(n_splits=10, shuffle=True, random_state=None)\n",
    "cvscores = []\n",
    "\n",
    "#x_test= pickle.load(open(\"x.pickle\",\"rb\"))\n",
    "#y_test=[]\n",
    "a_test=a[8:]\n",
    "b_test=b[8:]\n",
    "\n",
    "#x = np.array(x_train)[indices.astype(int)]\n",
    "#y = np.array(y_train)[indices.astype(int)]\n",
    "for train, test in kfold.split(a, b):\n",
    "    model = Sequential()\n",
    "\n",
    "    model.add(Conv2D(32,(3,3),input_shape=a.shape[1:]))\n",
    "    model.add(Activation(\"relu\"))\n",
    "    model.add(MaxPooling2D(pool_size=(2,2)))\n",
    "\n",
    "    model.add(Conv2D(32,(3,3)))\n",
    "    model.add(Activation(\"relu\"))\n",
    "    model.add(MaxPooling2D(pool_size=(2,2)))\n",
    "    \n",
    "    #model.add(Conv2D(32,(3,3)))\n",
    "    #model.add(Activation(\"relu\"))\n",
    "    #model.add(MaxPooling2D(pool_size=(2,2)))\n",
    "    \n",
    "      \n",
    "    #model.add(Conv2D(32,(3,3)))\n",
    "    #model.add(Activation(\"relu\"))\n",
    "    #model.add(MaxPooling2D(pool_size=(2,2)))\n",
    "\n",
    "    model.add(Flatten())\n",
    "    model.add(Dense(64))\n",
    "\n",
    "    model.add(Dense(1))\n",
    "    model.add(Activation('sigmoid'))\n",
    "\n",
    "    model.compile(loss=\"binary_crossentropy\",\n",
    "                 optimizer=\"adam\",\n",
    "                 metrics=['accuracy'])\n",
    "    model.fit(a_train, b_train, epochs=200, batch_size=100, verbose=0)\n",
    "\n",
    "    scores = model.evaluate(a_test, b_test, verbose=0)\n",
    "    print(\"%s: %.2f%%\" % (model.metrics_names[1], scores[1]*100))\n",
    "    cvscores.append(scores[1] * 100)\n",
    "print(\"%.2f%% (+/- %.2f%%)\" % (np.mean(cvscores), np.std(cvscores)))\n",
    "\n",
    "model.save('64x3-CNN(80_20).model')\n",
    "\n"
   ]
  },
  {
   "cell_type": "code",
   "execution_count": null,
   "metadata": {},
   "outputs": [],
   "source": []
  }
 ],
 "metadata": {
  "kernelspec": {
   "display_name": "Python 3",
   "language": "python",
   "name": "python3"
  },
  "language_info": {
   "codemirror_mode": {
    "name": "ipython",
    "version": 3
   },
   "file_extension": ".py",
   "mimetype": "text/x-python",
   "name": "python",
   "nbconvert_exporter": "python",
   "pygments_lexer": "ipython3",
   "version": "3.7.4"
  }
 },
 "nbformat": 4,
 "nbformat_minor": 2
}
